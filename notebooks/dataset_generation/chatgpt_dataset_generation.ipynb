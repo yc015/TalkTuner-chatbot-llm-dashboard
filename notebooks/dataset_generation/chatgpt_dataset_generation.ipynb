{
 "cells": [
  {
   "cell_type": "code",
   "execution_count": null,
   "id": "4ed23a4a-2238-4ddb-8805-82cbe5a989b7",
   "metadata": {},
   "outputs": [],
   "source": [
    "import os\n",
    "import openai\n",
    "import time\n",
    "\n",
    "# Load your API key from an environment variable or secret management service\n",
    "openai.api_key = \"yours_here\""
   ]
  },
  {
   "cell_type": "markdown",
   "id": "faa0458e-628e-44fd-8e2d-adf9da8870af",
   "metadata": {},
   "source": [
    "# Gender Conversations"
   ]
  },
  {
   "cell_type": "code",
   "execution_count": null,
   "id": "a61323a8-c559-4230-8e1e-0a3de1d36316",
   "metadata": {},
   "outputs": [],
   "source": [
    "i = 0\n",
    "num_samples = 'Your choice here'\n",
    "\n",
    "output_dir = 'datasets/openai_gender'\n",
    "if not os.path.exists(output_dir):\n",
    "    os.makedirs(output_dir)\n",
    "\n",
    "for gender in [\"male\", \"female\"]:\n",
    "    while i < num_samples:\n",
    "        try:\n",
    "            result = openai.ChatCompletion.create(\n",
    "              model=\"your_choice_of_models\",\n",
    "              messages=[\n",
    "                    {\"role\": \"system\", \"content\": \"You are a chatbot who will actively talk with a user and answer all the questions asked by the user.\"},\n",
    "                    {\"role\": \"user\", \"content\": f\"Generate a conversation between a human user and an AI assistant. This human user is a {gender}. Make sure the conversation reflect this user's gender. The user's response should start with '### Human:', and the AI assistant's response should start with '### Assistant:'\"},\n",
    "                ],\n",
    "            )\n",
    "            with open(f'{output_dir}/conversation_{i}_gender_{gender}.txt', 'w') as f:\n",
    "                f.write(result.choices[0][\"message\"][\"content\"])\n",
    "            f.close()\n",
    "            i+= 1\n",
    "        except:\n",
    "            time.sleep(5)\n",
    "    i = 0"
   ]
  },
  {
   "cell_type": "markdown",
   "id": "8f4e002f-6d9c-42f4-a057-8cb89d782c14",
   "metadata": {},
   "source": [
    "# Age Conversations"
   ]
  },
  {
   "cell_type": "code",
   "execution_count": null,
   "id": "51f78e56-8e88-4a3a-ba53-1a107e9a9812",
   "metadata": {},
   "outputs": [],
   "source": [
    "i = 0\n",
    "num_samples = 'Your choice here'\n",
    "year_ranges = [\"below 12 years old\", \"between 13 to 17 years old\", \"between 18 to 64 years old\",\n",
    "               \"above 65 years old\"]\n",
    "ages = [\"child\", \"adolescent\", \"adult\", \"older adult\"]\n",
    "\n",
    "output_dir = 'datasets/openai_age'\n",
    "if not os.path.exists(output_dir):\n",
    "    os.makedirs(output_dir)\n",
    "\n",
    "for (age, year_range) in zip(ages, year_ranges):\n",
    "    while i < num_samples:\n",
    "        try:\n",
    "            result = openai.ChatCompletion.create(\n",
    "              model=\"your_choice_of_models\",\n",
    "              messages=[\n",
    "                    {\"role\": \"system\", \"content\": \"You are a chatbot who will actively talk with a user and answer all the questions asked by the user.\"},\n",
    "                    {\"role\": \"user\", \"content\": f\"Generate a conversation between a human user and an AI assistant. This human user is a {age} who is {year_range}. Make sure the conversation reflect this user's age. The user's response should start with '### Human:', and the AI assistant's response should start with '### Assistant:'\"},\n",
    "                ]\n",
    "            )\n",
    "            with open(f'{output_dir}/conversation_{i}_age_{age}.txt', 'w') as f:\n",
    "                f.write(result.choices[0][\"message\"][\"content\"])\n",
    "            f.close()\n",
    "            i+= 1\n",
    "        except:\n",
    "            time.sleep(5)\n",
    "    i = 0"
   ]
  },
  {
   "cell_type": "markdown",
   "id": "4f7f40f1-10c4-4ee3-b864-581a4914d480",
   "metadata": {},
   "source": [
    "## Education Conversations"
   ]
  },
  {
   "cell_type": "code",
   "execution_count": null,
   "id": "6253d779-6ee2-46d9-98b7-e19cc8ff75d8",
   "metadata": {
    "tags": []
   },
   "outputs": [],
   "source": [
    "i = 0\n",
    "num_samples = 'Your choice here'\n",
    "educations = [\"some schooling (pre-high school)\", \"high school education\", \n",
    "              \"college and more\"]\n",
    "acrys = [\"someschool\", \n",
    "        \"highschool\", \"collegemore\"]\n",
    "\n",
    "\n",
    "output_dir = 'datasets/openai_education'\n",
    "if not os.path.exists(output_dir):\n",
    "    os.makedirs(output_dir)\n",
    "\n",
    "for education, acry in zip(educations, acrys):\n",
    "    while i < num_samples:\n",
    "        try:\n",
    "            result = openai.ChatCompletion.create(\n",
    "              model=\"your_choice_of_models\",\n",
    "              messages=[\n",
    "                    {\"role\": \"system\", \"content\": \"You are a chatbot who will actively talk with a user and answer all the questions asked by the user.\"},\n",
    "                    {\"role\": \"user\", \"content\": f\"Generate a conversation between a human user and an AI assistant. The education of this human user is {education}. Make sure the conversation directly or indirectly reflects this user's education level. Be creative on the topics of the conversation. The user's response should start with '### Human:', and the AI assistant's response should start with '### Assistant:'\"},\n",
    "                ],\n",
    "              temperature=0.7,\n",
    "            )\n",
    "            with open(f'{output_dir}/conversation_{i}_education_{acry}.txt', 'w') as f:\n",
    "                f.write(result.choices[0][\"message\"][\"content\"])\n",
    "            f.close()\n",
    "            i+= 1\n",
    "        except:\n",
    "            time.sleep(5)\n",
    "    i = 0"
   ]
  },
  {
   "cell_type": "markdown",
   "id": "b920f8d1-7b43-4241-a7aa-86aa365a4c6b",
   "metadata": {},
   "source": [
    "# Socioeconomic Status Conversations"
   ]
  },
  {
   "cell_type": "code",
   "execution_count": null,
   "id": "b92706ca-07b4-4b74-b069-4066b9f19a4d",
   "metadata": {},
   "outputs": [],
   "source": [
    "i = 0\n",
    "num_samples = 'Your choice here'\n",
    "socioeco_status = [\"low\", \"middle\", \"high\"]\n",
    "socioeco_verboses = [\"lower\", \"middle\", \"upper\"]\n",
    "other_verboses = [\"middle or upper classes\", \"lower or upper classes\", \"lower or middle classes\"]\n",
    "\n",
    "output_dir = 'datasets/openai_socioeconomic'\n",
    "if not os.path.exists(output_dir):\n",
    "    os.makedirs(output_dir)\n",
    "\n",
    "for socioeco, verbose, other_verbose in zip(socioeco_status, socioeco_verboses, other_verboses):\n",
    "    while i < num_samples:\n",
    "        try:\n",
    "            result = openai.ChatCompletion.create(\n",
    "              model=\"your_choice_of_models\",\n",
    "              messages=[\n",
    "                    {\"role\": \"system\", \"content\": \"You are a chatbot who will actively talk with a user and answer all the questions asked by the user.\"},\n",
    "                    {\"role\": \"user\", \"content\": f\"Generate a conversation between a human user and an AI assistant. The socioeconomic status of this human user is {socioeco}. Make sure the conversation implicitly or explicitly reflect this user belongs to {verbose} class but not {other_verbose}. You may or may not include the user's socioeconomic status explicitly in the conversation. Be creative on the topic of the conversation. The user's response should start with '### Human:', and the AI assistant's response should start with '### Assistant:'\"},\n",
    "                ],\n",
    "\n",
    "            )\n",
    "            with open(f'{output_dir}/conversation_{i}_socioeco_{socioeco}.txt', 'w') as f:\n",
    "                f.write(result.choices[0][\"message\"][\"content\"])\n",
    "            f.close()\n",
    "            i+= 1\n",
    "        except:\n",
    "            time.sleep(5)\n",
    "    i = 250"
   ]
  }
 ],
 "metadata": {
  "kernelspec": {
   "display_name": "Python [conda env:.conda-diffusion]",
   "language": "python",
   "name": "conda-env-.conda-diffusion-py"
  },
  "language_info": {
   "codemirror_mode": {
    "name": "ipython",
    "version": 3
   },
   "file_extension": ".py",
   "mimetype": "text/x-python",
   "name": "python",
   "nbconvert_exporter": "python",
   "pygments_lexer": "ipython3",
   "version": "3.9.13"
  }
 },
 "nbformat": 4,
 "nbformat_minor": 5
}
